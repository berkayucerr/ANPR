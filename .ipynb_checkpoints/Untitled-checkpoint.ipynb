{
 "cells": [
  {
   "cell_type": "code",
   "execution_count": 16,
   "id": "a2391114",
   "metadata": {},
   "outputs": [
    {
     "name": "stdout",
     "output_type": "stream",
     "text": [
      "503 571 296 66\n"
     ]
    },
    {
     "data": {
      "text/plain": [
       "True"
      ]
     },
     "execution_count": 16,
     "metadata": {},
     "output_type": "execute_result"
    }
   ],
   "source": [
    "import cv2\n",
    "import matplotlib.pyplot as plt\n",
    "img = cv2.imread(\"Resim/end.png\")\n",
    "gray = cv2.cvtColor(img, cv2.COLOR_BGR2GRAY)    \n",
    "dst = cv2.Canny(gray, 0, 150)\n",
    "blured = cv2.blur(dst, (5,5), 0)    \n",
    "MIN_CONTOUR_AREA=200\n",
    "img_thresh = cv2.adaptiveThreshold(blured, 255, cv2.ADAPTIVE_THRESH_GAUSSIAN_C, cv2.THRESH_BINARY_INV, 11, 2)\n",
    "Contours,imgContours = cv2.findContours(img_thresh, cv2.RETR_EXTERNAL, cv2.CHAIN_APPROX_NONE)\n",
    "for contour in Contours:\n",
    "    if cv2.contourArea(contour) > MIN_CONTOUR_AREA:\n",
    "        [X, Y, W, H] = cv2.boundingRect(contour)\n",
    "        box=cv2.rectangle(img, (X, Y), (X + W, Y + H), (0,255,0), 2)\n",
    "        print(X,Y,W,H)\n",
    "\n",
    "cropped_image = img[Y:Y+H, X:X+W]\n",
    "cv2.imwrite('Resim/cropped_image.png',cropped_image)"
   ]
  },
  {
   "cell_type": "code",
   "execution_count": null,
   "id": "83ebb8de",
   "metadata": {},
   "outputs": [],
   "source": []
  }
 ],
 "metadata": {
  "kernelspec": {
   "display_name": "Python 3 (ipykernel)",
   "language": "python",
   "name": "python3"
  },
  "language_info": {
   "codemirror_mode": {
    "name": "ipython",
    "version": 3
   },
   "file_extension": ".py",
   "mimetype": "text/x-python",
   "name": "python",
   "nbconvert_exporter": "python",
   "pygments_lexer": "ipython3",
   "version": "3.9.7"
  }
 },
 "nbformat": 4,
 "nbformat_minor": 5
}
