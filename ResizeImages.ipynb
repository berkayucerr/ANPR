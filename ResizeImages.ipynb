{
 "cells": [
  {
   "cell_type": "code",
   "execution_count": null,
   "id": "5a5a9a82",
   "metadata": {},
   "outputs": [],
   "source": [
    "import numpy as np"
   ]
  },
  {
   "cell_type": "code",
   "execution_count": null,
   "id": "49f01d79",
   "metadata": {},
   "outputs": [],
   "source": [
    "DD"
   ]
  },
  {
   "cell_type": "code",
   "execution_count": null,
   "id": "d08148c2",
   "metadata": {},
   "outputs": [],
   "source": [
    "from PIL import Image\n",
    "import os, sys\n",
    "import glob\n",
    "\n",
    "root_dir = \"path\"\n",
    "\n",
    "\n",
    "for filename in glob.iglob(root_dir + '**/*.jpeg', recursive=True):\n",
    "    print(filename)\n",
    "    im = Image.open(filename)\n",
    "    imResize = im.resize((416,416), Image.ANTIALIAS)\n",
    "    imResize.save(filename , 'JPEG', quality=90)"
   ]
  },
  {
   "cell_type": "code",
   "execution_count": null,
   "id": "38b03b88",
   "metadata": {},
   "outputs": [],
   "source": []
  }
 ],
 "metadata": {
  "kernelspec": {
   "display_name": "Python 3 (ipykernel)",
   "language": "python",
   "name": "python3"
  },
  "language_info": {
   "codemirror_mode": {
    "name": "ipython",
    "version": 3
   },
   "file_extension": ".py",
   "mimetype": "text/x-python",
   "name": "python",
   "nbconvert_exporter": "python",
   "pygments_lexer": "ipython3",
   "version": "3.9.7"
  }
 },
 "nbformat": 4,
 "nbformat_minor": 5
}
